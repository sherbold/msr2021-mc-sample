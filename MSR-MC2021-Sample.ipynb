{
 "cells": [
  {
   "cell_type": "markdown",
   "metadata": {},
   "source": [
    "# Mining Challenge Sample Notebook\n",
    "\n",
    "This notebook gives a small example of working with our data.\n",
    "\n",
    "## Imports and Database Connection"
   ]
  },
  {
   "cell_type": "code",
   "execution_count": 1,
   "metadata": {},
   "outputs": [
    {
     "data": {
      "text/plain": [
       "MongoClient(host=['localhost:27017'], document_class=dict, tz_aware=False, connect=True, read_preference=Primary())"
      ]
     },
     "execution_count": 1,
     "metadata": {},
     "output_type": "execute_result"
    }
   ],
   "source": [
    "from mongoengine import connect, DoesNotExist\n",
    "from pycoshark.mongomodels import Commit, FileAction, Project, VCSSystem, Hunk, Issue, IssueSystem, IssueComment\n",
    "from pycoshark.utils import create_mongodb_uri_string\n",
    "\n",
    "\n",
    "# You may have to update this dict to match your DB credentials\n",
    "credentials = {'db_user': '',\n",
    "               'db_password': '',\n",
    "               'db_hostname': 'localhost',\n",
    "               'db_port': 27017,\n",
    "               'db_authentication_database': '',\n",
    "               'db_ssl_enabled': False}\n",
    "\n",
    "uri = create_mongodb_uri_string(**credentials)\n",
    "\n",
    "connect(\"smartshark_rel1\", host=uri, alias='default')"
   ]
  },
  {
   "cell_type": "markdown",
   "metadata": {},
   "source": [
    "## Working with commits"
   ]
  },
  {
   "cell_type": "code",
   "execution_count": 2,
   "metadata": {},
   "outputs": [
    {
     "name": "stdout",
     "output_type": "stream",
     "text": [
      "VCS System: https://github.com/apache/commons-dbcp.git\n",
      "Number of commits: 2205\n",
      "Number of bug fixing commits: 106\n",
      "Number of commits that link to a Jira issue: 323\n",
      "Number of hunks for all commits: 29290\n"
     ]
    }
   ],
   "source": [
    "# We first need the the project from the database\n",
    "project = Project.objects(name='commons-dbcp').get()\n",
    "\n",
    "# We now select the version control system of the project\n",
    "vcs_system = VCSSystem.objects(project_id=project.id).get()\n",
    "\n",
    "print('VCS System:', vcs_system.url)\n",
    "\n",
    "# We can now fetch the commits and analyze them\n",
    "num_commits = Commit.objects(vcs_system_id=vcs_system.id).count()\n",
    "\n",
    "print('Number of commits:', num_commits)\n",
    "\n",
    "count_bugfix = 0\n",
    "count_linked_issue = 0\n",
    "count_hunks = 0\n",
    "\n",
    "# Only limits the fields we are reading to the required fields. This is important for the performance.\n",
    "for commit in Commit.objects(vcs_system_id=vcs_system.id).only('labels', 'linked_issue_ids'):\n",
    "    if commit.labels is not None and 'validated_bugfix' in commit.labels and commit.labels['validated_bugfix']==True:\n",
    "        count_bugfix += 1\n",
    "    if commit.linked_issue_ids is not None and len(commit.linked_issue_ids)>0:\n",
    "        count_linked_issue += 1\n",
    "        \n",
    "    # File actions group all changed hunks in a commit of the same file\n",
    "    for fa in FileAction.objects(commit_id=commit.id):\n",
    "        count_hunks += Hunk.objects(file_action_id=fa.id).count()\n",
    "\n",
    "print('Number of bug fixing commits:', count_bugfix)\n",
    "print('Number of commits that link to a Jira issue:', count_linked_issue)\n",
    "print('Number of hunks for all commits:', count_hunks)"
   ]
  },
  {
   "cell_type": "markdown",
   "metadata": {},
   "source": [
    "## Working with issues"
   ]
  },
  {
   "cell_type": "code",
   "execution_count": 3,
   "metadata": {},
   "outputs": [
    {
     "name": "stdout",
     "output_type": "stream",
     "text": [
      "Issue Tracker: https://issues.apache.org/jira/rest/api/2/search?jql=project=DBCP\n",
      "Number of issues: 553\n",
      "Number of comments in discussions: 1696\n",
      "Number of issues referenced by commits: 219\n",
      "Number of issues labeled as bugs by developers: 367\n",
      "Number of issues labeled validated as bug by researchers: 71\n"
     ]
    }
   ],
   "source": [
    "# We first need the the project from the database\n",
    "project = Project.objects(name='commons-dbcp').get()\n",
    "\n",
    "# We now select the issue tracking system of the project\n",
    "# Please note that some projects have multiple issue trackers\n",
    "# In this case get() would fail and you would need to loop over them\n",
    "issue_tracker = IssueSystem.objects(project_id=project.id).get()\n",
    "\n",
    "print('Issue Tracker:', issue_tracker.url)\n",
    "\n",
    "# we can now work with the issues\n",
    "num_issues = Issue.objects(issue_system_id=issue_tracker.id).count()\n",
    "\n",
    "print('Number of issues:', num_issues)\n",
    "\n",
    "count_comments = 0\n",
    "count_referenced_by_commits = 0\n",
    "count_bugs_dev_label = 0\n",
    "count_bugs_validated = 0\n",
    "\n",
    "for issue in Issue.objects(issue_system_id=issue_tracker.id):\n",
    "    count_comments += IssueComment.objects(issue_id=issue.id).count()\n",
    "    if issue.issue_type is not None and issue.issue_type.lower()=='bug':\n",
    "        count_bugs_dev_label += 1\n",
    "    if issue.issue_type_verified is not None and issue.issue_type_verified.lower()=='bug':\n",
    "        count_bugs_validated += 1\n",
    "    if Commit.objects(linked_issue_ids=issue.id).count()>0:\n",
    "        count_referenced_by_commits += 1\n",
    "        \n",
    "print('Number of comments in discussions:', count_comments)\n",
    "print('Number of issues referenced by commits:', count_referenced_by_commits)\n",
    "print('Number of issues labeled as bugs by developers:', count_bugs_dev_label)\n",
    "print('Number of issues labeled validated as bug by researchers:', count_bugs_validated)"
   ]
  }
 ],
 "metadata": {
  "kernelspec": {
   "display_name": "Python 3",
   "language": "python",
   "name": "python3"
  },
  "language_info": {
   "codemirror_mode": {
    "name": "ipython",
    "version": 3
   },
   "file_extension": ".py",
   "mimetype": "text/x-python",
   "name": "python",
   "nbconvert_exporter": "python",
   "pygments_lexer": "ipython3",
   "version": "3.6.9"
  }
 },
 "nbformat": 4,
 "nbformat_minor": 2
}
